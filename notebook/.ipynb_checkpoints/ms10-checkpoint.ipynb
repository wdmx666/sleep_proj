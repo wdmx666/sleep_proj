{
 "cells": [
  {
   "cell_type": "code",
   "execution_count": 2,
   "metadata": {},
   "outputs": [],
   "source": [
    "import os\n",
    "import scipy.io as sio \n",
    "import path\n",
    "import pandas as pd\n",
    "import numpy as np"
   ]
  },
  {
   "cell_type": "code",
   "execution_count": 3,
   "metadata": {},
   "outputs": [],
   "source": [
    "p = r\"E:\\datasources\\MS10Data\\1\\psg\\psg.mat\"\n",
    "rdp=r\"E:\\datasources\\MS10Data\\1\\raw\\rawMat.mat\""
   ]
  },
  {
   "cell_type": "code",
   "execution_count": 4,
   "metadata": {},
   "outputs": [],
   "source": [
    "psg1 = sio.loadmat(p)\n",
    "psg1[\"psgStage\"].reshape(-1,1)[0][0]"
   ]
  },
  {
   "cell_type": "code",
   "execution_count": 47,
   "metadata": {},
   "outputs": [
    {
     "data": {
      "text/plain": [
       "array([(array([[737201.88489583]]), array([[3.1]]))],\n",
       "      dtype=[('Time', 'O'), ('stage', 'O')])"
      ]
     },
     "execution_count": 47,
     "metadata": {},
     "output_type": "execute_result"
    }
   ],
   "source": [
    "row=psg1[\"psgStage\"].reshape(-1,1)[0]\n",
    "row"
   ]
  },
  {
   "cell_type": "code",
   "execution_count": 42,
   "metadata": {},
   "outputs": [
    {
     "data": {
      "text/plain": [
       "array([[7.37201885e+05],\n",
       "       [3.10000000e+00]])"
      ]
     },
     "execution_count": 42,
     "metadata": {},
     "output_type": "execute_result"
    }
   ],
   "source": [
    "np.stack([i.flatten() for i in row[0]])"
   ]
  },
  {
   "cell_type": "code",
   "execution_count": 4,
   "metadata": {},
   "outputs": [
    {
     "data": {
      "text/plain": [
       "(1, 1116)"
      ]
     },
     "execution_count": 4,
     "metadata": {},
     "output_type": "execute_result"
    }
   ],
   "source": [
    "psg1[\"psgStage\"].shape #m[\"labels\"][0].as_type(\"int\")"
   ]
  },
  {
   "cell_type": "code",
   "execution_count": 49,
   "metadata": {},
   "outputs": [
    {
     "data": {
      "text/plain": [
       "array([(array([[737201.88489583]]), array([[3.1]])),\n",
       "       (array([[737201.88524305]]), array([[3.1]])),\n",
       "       (array([[737201.88559027]]), array([[3.1]])), ...,\n",
       "       (array([[737202.27135207]]), array([[1.1]])),\n",
       "       (array([[737202.27169929]]), array([[1.1]])),\n",
       "       (array([[737202.27204651]]), array([[1.1]]))],\n",
       "      dtype=[('Time', 'O'), ('stage', 'O')])"
      ]
     },
     "execution_count": 49,
     "metadata": {},
     "output_type": "execute_result"
    }
   ],
   "source": [
    "p1=psg1['psgStage'][0]#{‘C’, ‘F’, ‘A’, ‘K’}\n",
    "np.apply_along_axis()"
   ]
  },
  {
   "cell_type": "code",
   "execution_count": 50,
   "metadata": {},
   "outputs": [],
   "source": [
    "def parse_psg(fp):\n",
    "    psg1 = sio.loadmat(fp)\n",
    "    psg1=psg1[\"psgStage\"].reshape(-1,1)\n",
    "    def parse_row(row):\n",
    "        return np.stack([i.flatten() for i in row[0]])\n",
    "    \n",
    "    return np.apply_along_axis(parse_row,1,psg1)\n",
    "    \n",
    "    \n",
    "    \n",
    "        \n",
    "    \n",
    "    \n",
    "\n"
   ]
  },
  {
   "cell_type": "code",
   "execution_count": 6,
   "metadata": {},
   "outputs": [],
   "source": [
    "rs= sio.loadmat(rdp)"
   ]
  },
  {
   "cell_type": "code",
   "execution_count": 7,
   "metadata": {},
   "outputs": [
    {
     "data": {
      "text/plain": [
       "array([[8608],\n",
       "       [8408],\n",
       "       [8216],\n",
       "       ...,\n",
       "       [7760],\n",
       "       [7752],\n",
       "       [7748]], dtype=uint16)"
      ]
     },
     "execution_count": 7,
     "metadata": {},
     "output_type": "execute_result"
    }
   ],
   "source": [
    "rs['rawData'][0,0][0]"
   ]
  },
  {
   "cell_type": "code",
   "execution_count": 55,
   "metadata": {},
   "outputs": [
    {
     "data": {
      "text/plain": [
       "dtype([('dataSignalOld', 'O'), ('dataSignal', 'O'), ('dataSwitch', 'O'), ('Time', 'O')])"
      ]
     },
     "execution_count": 55,
     "metadata": {},
     "output_type": "execute_result"
    }
   ],
   "source": [
    "rs['rawData'].dtype"
   ]
  },
  {
   "cell_type": "code",
   "execution_count": 50,
   "metadata": {},
   "outputs": [],
   "source": [
    "tmp=rs['rawData'][0][0]"
   ]
  },
  {
   "cell_type": "code",
   "execution_count": 51,
   "metadata": {},
   "outputs": [
    {
     "data": {
      "text/plain": [
       "4"
      ]
     },
     "execution_count": 51,
     "metadata": {},
     "output_type": "execute_result"
    }
   ],
   "source": [
    "len(tmp)"
   ]
  },
  {
   "cell_type": "code",
   "execution_count": 54,
   "metadata": {},
   "outputs": [
    {
     "data": {
      "text/plain": [
       "(array([[8608],\n",
       "       [8408],\n",
       "       [8216],\n",
       "       ...,\n",
       "       [7760],\n",
       "       [7752],\n",
       "       [7748]], dtype=uint16), array([[8608],\n",
       "       [8408],\n",
       "       [8216],\n",
       "       ...,\n",
       "       [7760],\n",
       "       [7752],\n",
       "       [7748]], dtype=uint16), array([[1],\n",
       "       [1],\n",
       "       [1],\n",
       "       ...,\n",
       "       [1],\n",
       "       [1],\n",
       "       [1]], dtype=uint8), array([[737201.88136574],\n",
       "       [737201.88136579],\n",
       "       [737201.88136583],\n",
       "       ...,\n",
       "       [737202.29539114],\n",
       "       [737202.29539118],\n",
       "       [737202.29539123]]))"
      ]
     },
     "execution_count": 54,
     "metadata": {},
     "output_type": "execute_result"
    }
   ],
   "source": [
    "tmp"
   ]
  },
  {
   "cell_type": "code",
   "execution_count": null,
   "metadata": {},
   "outputs": [],
   "source": []
  }
 ],
 "metadata": {
  "kernelspec": {
   "display_name": "Python 3",
   "language": "python",
   "name": "python3"
  },
  "language_info": {
   "codemirror_mode": {
    "name": "ipython",
    "version": 3
   },
   "file_extension": ".py",
   "mimetype": "text/x-python",
   "name": "python",
   "nbconvert_exporter": "python",
   "pygments_lexer": "ipython3",
   "version": "3.6.5"
  }
 },
 "nbformat": 4,
 "nbformat_minor": 1
}
